{
 "cells": [
  {
   "cell_type": "code",
   "execution_count": 47,
   "metadata": {},
   "outputs": [],
   "source": [
    "import pickle\n",
    "import numpy as np\n",
    "import pandas as pd\n",
    "\n",
    "from sklearn.svm import SVC\n",
    "from sklearn.tree import DecisionTreeClassifier\n",
    "\n",
    "from sklearn.metrics import accuracy_score, classification_report\n",
    "from yellowbrick.classifier import ConfusionMatrix\n",
    "from sklearn.model_selection import GridSearchCV\n",
    "from sklearn.neural_network import MLPClassifier\n",
    "\n",
    "from sklearn.model_selection import cross_val_score, KFold"
   ]
  },
  {
   "cell_type": "code",
   "execution_count": 48,
   "metadata": {},
   "outputs": [],
   "source": [
    "with open('./data/titanic.pkl', 'rb') as f:\n",
    "   X_titanic_train, y_titanic_train, X_titanic_test, y_titanic_test = pickle.load(f)\n",
    "   \n",
    "X_titanic = np.concatenate((X_titanic_train, X_titanic_test), axis=0)\n",
    "y_titanic = np.concatenate((y_titanic_train, y_titanic_test), axis=0)"
   ]
  },
  {
   "cell_type": "code",
   "execution_count": 49,
   "metadata": {},
   "outputs": [],
   "source": [
    "results_tree = []\n",
    "results_neural_network = []\n",
    "results_svm = []\n",
    "\n",
    "for i in range(30):\n",
    "   kfold = KFold(n_splits=10, shuffle=True, random_state=i)\n",
    "   \n",
    "   decision_tree = DecisionTreeClassifier(criterion='log_loss', min_samples_leaf=15, min_samples_split=25, splitter='random')\n",
    "   scores_tree = cross_val_score(decision_tree, X_titanic, y_titanic, cv=kfold)\n",
    "   results_tree.append(scores_tree.mean())\n",
    "   \n",
    "   svm = SVC(kernel = 'rbf', C = 100.0, tol=0.001)\n",
    "   scores_svm = cross_val_score(svm, X_titanic, y_titanic, cv=kfold)\n",
    "   results_svm.append(scores_svm.mean())\n",
    "\n",
    "   neural_network = MLPClassifier(max_iter=2000, activation='logistic', hidden_layer_sizes=(8, 8, 8), solver='adam', tol=1e-05)\n",
    "   scores_neural_network = cross_val_score(neural_network, X_titanic, y_titanic, cv=kfold)\n",
    "   results_neural_network.append(scores_neural_network.mean())\n",
    "   "
   ]
  },
  {
   "cell_type": "code",
   "execution_count": 50,
   "metadata": {},
   "outputs": [
    {
     "name": "stdout",
     "output_type": "stream",
     "text": [
      "30 30 30\n"
     ]
    }
   ],
   "source": [
    "print(len(results_tree), len(results_neural_network), len(results_svm))"
   ]
  },
  {
   "cell_type": "code",
   "execution_count": 51,
   "metadata": {},
   "outputs": [
    {
     "data": {
      "text/html": [
       "<div>\n",
       "<style scoped>\n",
       "    .dataframe tbody tr th:only-of-type {\n",
       "        vertical-align: middle;\n",
       "    }\n",
       "\n",
       "    .dataframe tbody tr th {\n",
       "        vertical-align: top;\n",
       "    }\n",
       "\n",
       "    .dataframe thead th {\n",
       "        text-align: right;\n",
       "    }\n",
       "</style>\n",
       "<table border=\"1\" class=\"dataframe\">\n",
       "  <thead>\n",
       "    <tr style=\"text-align: right;\">\n",
       "      <th></th>\n",
       "      <th>Tree</th>\n",
       "      <th>Neural Network</th>\n",
       "      <th>SVM</th>\n",
       "    </tr>\n",
       "  </thead>\n",
       "  <tbody>\n",
       "    <tr>\n",
       "      <th>0</th>\n",
       "      <td>0.855385</td>\n",
       "      <td>0.860728</td>\n",
       "      <td>0.836242</td>\n",
       "    </tr>\n",
       "    <tr>\n",
       "      <th>1</th>\n",
       "      <td>0.853089</td>\n",
       "      <td>0.867651</td>\n",
       "      <td>0.836283</td>\n",
       "    </tr>\n",
       "    <tr>\n",
       "      <th>2</th>\n",
       "      <td>0.855385</td>\n",
       "      <td>0.863770</td>\n",
       "      <td>0.836260</td>\n",
       "    </tr>\n",
       "    <tr>\n",
       "      <th>3</th>\n",
       "      <td>0.857716</td>\n",
       "      <td>0.862278</td>\n",
       "      <td>0.834733</td>\n",
       "    </tr>\n",
       "    <tr>\n",
       "      <th>4</th>\n",
       "      <td>0.853124</td>\n",
       "      <td>0.866160</td>\n",
       "      <td>0.838620</td>\n",
       "    </tr>\n",
       "    <tr>\n",
       "      <th>5</th>\n",
       "      <td>0.856882</td>\n",
       "      <td>0.863776</td>\n",
       "      <td>0.840840</td>\n",
       "    </tr>\n",
       "    <tr>\n",
       "      <th>6</th>\n",
       "      <td>0.860810</td>\n",
       "      <td>0.855461</td>\n",
       "      <td>0.838638</td>\n",
       "    </tr>\n",
       "    <tr>\n",
       "      <th>7</th>\n",
       "      <td>0.862290</td>\n",
       "      <td>0.863823</td>\n",
       "      <td>0.836312</td>\n",
       "    </tr>\n",
       "    <tr>\n",
       "      <th>8</th>\n",
       "      <td>0.859971</td>\n",
       "      <td>0.863012</td>\n",
       "      <td>0.839272</td>\n",
       "    </tr>\n",
       "    <tr>\n",
       "      <th>9</th>\n",
       "      <td>0.857663</td>\n",
       "      <td>0.856142</td>\n",
       "      <td>0.837029</td>\n",
       "    </tr>\n",
       "    <tr>\n",
       "      <th>10</th>\n",
       "      <td>0.856136</td>\n",
       "      <td>0.859947</td>\n",
       "      <td>0.839307</td>\n",
       "    </tr>\n",
       "    <tr>\n",
       "      <th>11</th>\n",
       "      <td>0.851609</td>\n",
       "      <td>0.863077</td>\n",
       "      <td>0.837076</td>\n",
       "    </tr>\n",
       "    <tr>\n",
       "      <th>12</th>\n",
       "      <td>0.856882</td>\n",
       "      <td>0.856130</td>\n",
       "      <td>0.837023</td>\n",
       "    </tr>\n",
       "    <tr>\n",
       "      <th>13</th>\n",
       "      <td>0.853881</td>\n",
       "      <td>0.861515</td>\n",
       "      <td>0.839348</td>\n",
       "    </tr>\n",
       "    <tr>\n",
       "      <th>14</th>\n",
       "      <td>0.853083</td>\n",
       "      <td>0.861515</td>\n",
       "      <td>0.837798</td>\n",
       "    </tr>\n",
       "    <tr>\n",
       "      <th>15</th>\n",
       "      <td>0.854621</td>\n",
       "      <td>0.859190</td>\n",
       "      <td>0.839313</td>\n",
       "    </tr>\n",
       "    <tr>\n",
       "      <th>16</th>\n",
       "      <td>0.856189</td>\n",
       "      <td>0.855414</td>\n",
       "      <td>0.837786</td>\n",
       "    </tr>\n",
       "    <tr>\n",
       "      <th>17</th>\n",
       "      <td>0.859248</td>\n",
       "      <td>0.860787</td>\n",
       "      <td>0.838561</td>\n",
       "    </tr>\n",
       "    <tr>\n",
       "      <th>18</th>\n",
       "      <td>0.853118</td>\n",
       "      <td>0.866130</td>\n",
       "      <td>0.838585</td>\n",
       "    </tr>\n",
       "    <tr>\n",
       "      <th>19</th>\n",
       "      <td>0.859225</td>\n",
       "      <td>0.863799</td>\n",
       "      <td>0.837011</td>\n",
       "    </tr>\n",
       "    <tr>\n",
       "      <th>20</th>\n",
       "      <td>0.853893</td>\n",
       "      <td>0.863864</td>\n",
       "      <td>0.836289</td>\n",
       "    </tr>\n",
       "    <tr>\n",
       "      <th>21</th>\n",
       "      <td>0.860018</td>\n",
       "      <td>0.863858</td>\n",
       "      <td>0.837070</td>\n",
       "    </tr>\n",
       "    <tr>\n",
       "      <th>22</th>\n",
       "      <td>0.860012</td>\n",
       "      <td>0.866894</td>\n",
       "      <td>0.837786</td>\n",
       "    </tr>\n",
       "    <tr>\n",
       "      <th>23</th>\n",
       "      <td>0.856207</td>\n",
       "      <td>0.861556</td>\n",
       "      <td>0.838579</td>\n",
       "    </tr>\n",
       "    <tr>\n",
       "      <th>24</th>\n",
       "      <td>0.861503</td>\n",
       "      <td>0.860722</td>\n",
       "      <td>0.837739</td>\n",
       "    </tr>\n",
       "    <tr>\n",
       "      <th>25</th>\n",
       "      <td>0.857675</td>\n",
       "      <td>0.863024</td>\n",
       "      <td>0.839342</td>\n",
       "    </tr>\n",
       "    <tr>\n",
       "      <th>26</th>\n",
       "      <td>0.859947</td>\n",
       "      <td>0.857675</td>\n",
       "      <td>0.840047</td>\n",
       "    </tr>\n",
       "    <tr>\n",
       "      <th>27</th>\n",
       "      <td>0.859977</td>\n",
       "      <td>0.860006</td>\n",
       "      <td>0.839354</td>\n",
       "    </tr>\n",
       "    <tr>\n",
       "      <th>28</th>\n",
       "      <td>0.852314</td>\n",
       "      <td>0.868420</td>\n",
       "      <td>0.834739</td>\n",
       "    </tr>\n",
       "    <tr>\n",
       "      <th>29</th>\n",
       "      <td>0.853881</td>\n",
       "      <td>0.857710</td>\n",
       "      <td>0.836265</td>\n",
       "    </tr>\n",
       "  </tbody>\n",
       "</table>\n",
       "</div>"
      ],
      "text/plain": [
       "        Tree  Neural Network       SVM\n",
       "0   0.855385        0.860728  0.836242\n",
       "1   0.853089        0.867651  0.836283\n",
       "2   0.855385        0.863770  0.836260\n",
       "3   0.857716        0.862278  0.834733\n",
       "4   0.853124        0.866160  0.838620\n",
       "5   0.856882        0.863776  0.840840\n",
       "6   0.860810        0.855461  0.838638\n",
       "7   0.862290        0.863823  0.836312\n",
       "8   0.859971        0.863012  0.839272\n",
       "9   0.857663        0.856142  0.837029\n",
       "10  0.856136        0.859947  0.839307\n",
       "11  0.851609        0.863077  0.837076\n",
       "12  0.856882        0.856130  0.837023\n",
       "13  0.853881        0.861515  0.839348\n",
       "14  0.853083        0.861515  0.837798\n",
       "15  0.854621        0.859190  0.839313\n",
       "16  0.856189        0.855414  0.837786\n",
       "17  0.859248        0.860787  0.838561\n",
       "18  0.853118        0.866130  0.838585\n",
       "19  0.859225        0.863799  0.837011\n",
       "20  0.853893        0.863864  0.836289\n",
       "21  0.860018        0.863858  0.837070\n",
       "22  0.860012        0.866894  0.837786\n",
       "23  0.856207        0.861556  0.838579\n",
       "24  0.861503        0.860722  0.837739\n",
       "25  0.857675        0.863024  0.839342\n",
       "26  0.859947        0.857675  0.840047\n",
       "27  0.859977        0.860006  0.839354\n",
       "28  0.852314        0.868420  0.834739\n",
       "29  0.853881        0.857710  0.836265"
      ]
     },
     "execution_count": 51,
     "metadata": {},
     "output_type": "execute_result"
    }
   ],
   "source": [
    "results = pd.DataFrame({'Tree': results_tree, 'Neural Network': results_neural_network, 'SVM': results_svm})\n",
    "\n",
    "results"
   ]
  },
  {
   "cell_type": "code",
   "execution_count": 52,
   "metadata": {},
   "outputs": [
    {
     "data": {
      "text/html": [
       "<div>\n",
       "<style scoped>\n",
       "    .dataframe tbody tr th:only-of-type {\n",
       "        vertical-align: middle;\n",
       "    }\n",
       "\n",
       "    .dataframe tbody tr th {\n",
       "        vertical-align: top;\n",
       "    }\n",
       "\n",
       "    .dataframe thead th {\n",
       "        text-align: right;\n",
       "    }\n",
       "</style>\n",
       "<table border=\"1\" class=\"dataframe\">\n",
       "  <thead>\n",
       "    <tr style=\"text-align: right;\">\n",
       "      <th></th>\n",
       "      <th>Tree</th>\n",
       "      <th>Neural Network</th>\n",
       "      <th>SVM</th>\n",
       "    </tr>\n",
       "  </thead>\n",
       "  <tbody>\n",
       "    <tr>\n",
       "      <th>count</th>\n",
       "      <td>30.000000</td>\n",
       "      <td>30.000000</td>\n",
       "      <td>30.000000</td>\n",
       "    </tr>\n",
       "    <tr>\n",
       "      <th>mean</th>\n",
       "      <td>0.856724</td>\n",
       "      <td>0.861801</td>\n",
       "      <td>0.837775</td>\n",
       "    </tr>\n",
       "    <tr>\n",
       "      <th>std</th>\n",
       "      <td>0.003053</td>\n",
       "      <td>0.003557</td>\n",
       "      <td>0.001520</td>\n",
       "    </tr>\n",
       "    <tr>\n",
       "      <th>min</th>\n",
       "      <td>0.851609</td>\n",
       "      <td>0.855414</td>\n",
       "      <td>0.834733</td>\n",
       "    </tr>\n",
       "    <tr>\n",
       "      <th>25%</th>\n",
       "      <td>0.853884</td>\n",
       "      <td>0.859962</td>\n",
       "      <td>0.836487</td>\n",
       "    </tr>\n",
       "    <tr>\n",
       "      <th>50%</th>\n",
       "      <td>0.856544</td>\n",
       "      <td>0.861917</td>\n",
       "      <td>0.837786</td>\n",
       "    </tr>\n",
       "    <tr>\n",
       "      <th>75%</th>\n",
       "      <td>0.859772</td>\n",
       "      <td>0.863817</td>\n",
       "      <td>0.839113</td>\n",
       "    </tr>\n",
       "    <tr>\n",
       "      <th>max</th>\n",
       "      <td>0.862290</td>\n",
       "      <td>0.868420</td>\n",
       "      <td>0.840840</td>\n",
       "    </tr>\n",
       "  </tbody>\n",
       "</table>\n",
       "</div>"
      ],
      "text/plain": [
       "            Tree  Neural Network        SVM\n",
       "count  30.000000       30.000000  30.000000\n",
       "mean    0.856724        0.861801   0.837775\n",
       "std     0.003053        0.003557   0.001520\n",
       "min     0.851609        0.855414   0.834733\n",
       "25%     0.853884        0.859962   0.836487\n",
       "50%     0.856544        0.861917   0.837786\n",
       "75%     0.859772        0.863817   0.839113\n",
       "max     0.862290        0.868420   0.840840"
      ]
     },
     "execution_count": 52,
     "metadata": {},
     "output_type": "execute_result"
    }
   ],
   "source": [
    "results.describe()"
   ]
  },
  {
   "cell_type": "code",
   "execution_count": 53,
   "metadata": {},
   "outputs": [
    {
     "name": "stdout",
     "output_type": "stream",
     "text": [
      "Tree              0.000009\n",
      "Neural Network    0.000013\n",
      "SVM               0.000002\n",
      "dtype: float64\n",
      "Tree              0.356335\n",
      "Neural Network    0.412708\n",
      "SVM               0.181403\n",
      "dtype: float64\n"
     ]
    }
   ],
   "source": [
    "print(results.var())\n",
    "print((results.std() / results.mean()) * 100)\n"
   ]
  },
  {
   "cell_type": "code",
   "execution_count": 54,
   "metadata": {},
   "outputs": [],
   "source": [
    "alpha = 0.05"
   ]
  },
  {
   "cell_type": "code",
   "execution_count": 55,
   "metadata": {},
   "outputs": [],
   "source": [
    "from scipy.stats import shapiro"
   ]
  },
  {
   "cell_type": "code",
   "execution_count": 56,
   "metadata": {},
   "outputs": [
    {
     "data": {
      "text/plain": [
       "(ShapiroResult(statistic=0.9492027163505554, pvalue=0.16094158589839935),\n",
       " ShapiroResult(statistic=0.9627482295036316, pvalue=0.36342909932136536),\n",
       " ShapiroResult(statistic=0.9600889682769775, pvalue=0.31140029430389404))"
      ]
     },
     "execution_count": 56,
     "metadata": {},
     "output_type": "execute_result"
    }
   ],
   "source": [
    "shapiro(results_tree), shapiro(results_neural_network), shapiro(results_svm)"
   ]
  },
  {
   "cell_type": "code",
   "execution_count": 57,
   "metadata": {},
   "outputs": [],
   "source": [
    "import seaborn as sns"
   ]
  },
  {
   "cell_type": "code",
   "execution_count": 58,
   "metadata": {},
   "outputs": [
    {
     "data": {
      "text/plain": [
       "<seaborn.axisgrid.FacetGrid at 0x7fec784c4550>"
      ]
     },
     "execution_count": 58,
     "metadata": {},
     "output_type": "execute_result"
    },
    {
     "data": {
      "image/png": "[encoded data removed]",
      "text/plain": [
       "<Figure size 500x500 with 1 Axes>"
      ]
     },
     "metadata": {},
     "output_type": "display_data"
    }
   ],
   "source": [
    "sns.displot(results_tree, kind='kde')"
   ]
  },
  {
   "cell_type": "code",
   "execution_count": 59,
   "metadata": {},
   "outputs": [
    {
     "data": {
      "text/plain": [
       "<seaborn.axisgrid.FacetGrid at 0x7fec782ee640>"
      ]
     },
     "execution_count": 59,
     "metadata": {},
     "output_type": "execute_result"
    },
    {
     "data": {
      "image/png": "[encoded data removed]",
      "text/plain": [
       "<Figure size 500x500 with 1 Axes>"
      ]
     },
     "metadata": {},
     "output_type": "display_data"
    }
   ],
   "source": [
    "sns.displot(results_neural_network, kind='kde')"
   ]
  },
  {
   "cell_type": "code",
   "execution_count": 60,
   "metadata": {},
   "outputs": [
    {
     "data": {
      "text/plain": [
       "<seaborn.axisgrid.FacetGrid at 0x7fec782cc9a0>"
      ]
     },
     "execution_count": 60,
     "metadata": {},
     "output_type": "execute_result"
    },
    {
     "data": {
      "image/png": "[encoded data removed]",
      "text/plain": [
       "<Figure size 500x500 with 1 Axes>"
      ]
     },
     "metadata": {},
     "output_type": "display_data"
    }
   ],
   "source": [
    "sns.displot(results_svm, kind='kde')"
   ]
  },
  {
   "cell_type": "markdown",
   "metadata": {},
   "source": [
    "# Teste de Hípotese"
   ]
  },
  {
   "cell_type": "code",
   "execution_count": 61,
   "metadata": {},
   "outputs": [],
   "source": [
    "from scipy.stats import f_oneway"
   ]
  },
  {
   "cell_type": "code",
   "execution_count": 62,
   "metadata": {},
   "outputs": [
    {
     "data": {
      "text/plain": [
       "1.8515784346768857e-51"
      ]
     },
     "execution_count": 62,
     "metadata": {},
     "output_type": "execute_result"
    }
   ],
   "source": [
    "_, p = f_oneway(results_tree, results_neural_network, results_svm)\n",
    "p"
   ]
  },
  {
   "cell_type": "code",
   "execution_count": 63,
   "metadata": {},
   "outputs": [
    {
     "name": "stdout",
     "output_type": "stream",
     "text": [
      "Hipótese nula rejeitada. Dados são diferentes\n"
     ]
    }
   ],
   "source": [
    "alpha = 0.05\n",
    "if p <= alpha:\n",
    "  print('Hipótese nula rejeitada. Dados são diferentes')\n",
    "else:\n",
    "  print('Hipótese alternativa rejeitada. Resultados são iguais')"
   ]
  },
  {
   "cell_type": "code",
   "execution_count": 64,
   "metadata": {},
   "outputs": [],
   "source": [
    "results_agm = {\n",
    "   'accuracy': np.concatenate([results_tree, results_neural_network, results_svm]),\n",
    "   'agm': ['tree','tree','tree','tree','tree','tree','tree','tree','tree','tree','tree','tree','tree','tree','tree','tree','tree','tree','tree','tree','tree','tree','tree','tree','tree','tree','tree','tree','tree','tree','neural_network','neural_network','neural_network','neural_network','neural_network','neural_network','neural_network','neural_network','neural_network','neural_network','neural_network','neural_network','neural_network','neural_network','neural_network','neural_network','neural_network','neural_network','neural_network','neural_network','neural_network','neural_network','neural_network','neural_network','neural_network','neural_network','neural_network','neural_network','neural_network','neural_network','svm','svm','svm','svm','svm','svm','svm','svm','svm','svm','svm','svm','svm','svm','svm','svm','svm','svm','svm','svm','svm','svm','svm','svm','svm','svm','svm','svm','svm','svm',]\n",
    "}"
   ]
  },
  {
   "cell_type": "code",
   "execution_count": 65,
   "metadata": {},
   "outputs": [
    {
     "data": {
      "text/html": [
       "<div>\n",
       "<style scoped>\n",
       "    .dataframe tbody tr th:only-of-type {\n",
       "        vertical-align: middle;\n",
       "    }\n",
       "\n",
       "    .dataframe tbody tr th {\n",
       "        vertical-align: top;\n",
       "    }\n",
       "\n",
       "    .dataframe thead th {\n",
       "        text-align: right;\n",
       "    }\n",
       "</style>\n",
       "<table border=\"1\" class=\"dataframe\">\n",
       "  <thead>\n",
       "    <tr style=\"text-align: right;\">\n",
       "      <th></th>\n",
       "      <th>accuracy</th>\n",
       "      <th>agm</th>\n",
       "    </tr>\n",
       "  </thead>\n",
       "  <tbody>\n",
       "    <tr>\n",
       "      <th>0</th>\n",
       "      <td>0.855385</td>\n",
       "      <td>tree</td>\n",
       "    </tr>\n",
       "    <tr>\n",
       "      <th>1</th>\n",
       "      <td>0.853089</td>\n",
       "      <td>tree</td>\n",
       "    </tr>\n",
       "    <tr>\n",
       "      <th>2</th>\n",
       "      <td>0.855385</td>\n",
       "      <td>tree</td>\n",
       "    </tr>\n",
       "    <tr>\n",
       "      <th>3</th>\n",
       "      <td>0.857716</td>\n",
       "      <td>tree</td>\n",
       "    </tr>\n",
       "    <tr>\n",
       "      <th>4</th>\n",
       "      <td>0.853124</td>\n",
       "      <td>tree</td>\n",
       "    </tr>\n",
       "    <tr>\n",
       "      <th>...</th>\n",
       "      <td>...</td>\n",
       "      <td>...</td>\n",
       "    </tr>\n",
       "    <tr>\n",
       "      <th>85</th>\n",
       "      <td>0.839342</td>\n",
       "      <td>svm</td>\n",
       "    </tr>\n",
       "    <tr>\n",
       "      <th>86</th>\n",
       "      <td>0.840047</td>\n",
       "      <td>svm</td>\n",
       "    </tr>\n",
       "    <tr>\n",
       "      <th>87</th>\n",
       "      <td>0.839354</td>\n",
       "      <td>svm</td>\n",
       "    </tr>\n",
       "    <tr>\n",
       "      <th>88</th>\n",
       "      <td>0.834739</td>\n",
       "      <td>svm</td>\n",
       "    </tr>\n",
       "    <tr>\n",
       "      <th>89</th>\n",
       "      <td>0.836265</td>\n",
       "      <td>svm</td>\n",
       "    </tr>\n",
       "  </tbody>\n",
       "</table>\n",
       "<p>90 rows × 2 columns</p>\n",
       "</div>"
      ],
      "text/plain": [
       "    accuracy   agm\n",
       "0   0.855385  tree\n",
       "1   0.853089  tree\n",
       "2   0.855385  tree\n",
       "3   0.857716  tree\n",
       "4   0.853124  tree\n",
       "..       ...   ...\n",
       "85  0.839342   svm\n",
       "86  0.840047   svm\n",
       "87  0.839354   svm\n",
       "88  0.834739   svm\n",
       "89  0.836265   svm\n",
       "\n",
       "[90 rows x 2 columns]"
      ]
     },
     "execution_count": 65,
     "metadata": {},
     "output_type": "execute_result"
    }
   ],
   "source": [
    "results_df = pd.DataFrame(results_agm)\n",
    "results_df"
   ]
  },
  {
   "cell_type": "code",
   "execution_count": 66,
   "metadata": {},
   "outputs": [
    {
     "data": {
      "text/plain": [
       "Tree              0.856724\n",
       "Neural Network    0.861801\n",
       "SVM               0.837775\n",
       "dtype: float64"
      ]
     },
     "execution_count": 66,
     "metadata": {},
     "output_type": "execute_result"
    }
   ],
   "source": [
    "results.mean()"
   ]
  },
  {
   "cell_type": "code",
   "execution_count": 67,
   "metadata": {},
   "outputs": [],
   "source": [
    "from statsmodels.stats.multicomp import MultiComparison"
   ]
  },
  {
   "cell_type": "code",
   "execution_count": 68,
   "metadata": {},
   "outputs": [],
   "source": [
    "comp_agm = MultiComparison(results_df['accuracy'], results_df['agm'])"
   ]
  },
  {
   "cell_type": "code",
   "execution_count": 69,
   "metadata": {},
   "outputs": [
    {
     "name": "stdout",
     "output_type": "stream",
     "text": [
      "    Multiple Comparison of Means - Tukey HSD, FWER=0.05    \n",
      "===========================================================\n",
      "    group1     group2 meandiff p-adj  lower   upper  reject\n",
      "-----------------------------------------------------------\n",
      "neural_network    svm   -0.024   0.0 -0.0258 -0.0223   True\n",
      "neural_network   tree  -0.0051   0.0 -0.0068 -0.0033   True\n",
      "           svm   tree   0.0189   0.0  0.0172  0.0207   True\n",
      "-----------------------------------------------------------\n"
     ]
    }
   ],
   "source": [
    "test_tukey = comp_agm.tukeyhsd()\n",
    "print(test_tukey)"
   ]
  },
  {
   "cell_type": "code",
   "execution_count": 70,
   "metadata": {},
   "outputs": [
    {
     "data": {
      "image/png": "[encoded data removed]",
      "text/plain": [
       "<Figure size 1000x600 with 1 Axes>"
      ]
     },
     "metadata": {},
     "output_type": "display_data"
    }
   ],
   "source": [
    "test_tukey.plot_simultaneous();"
   ]
  }
 ],
 "metadata": {
  "kernelspec": {
   "display_name": "Python 3.9.15 ('.venv': venv)",
   "language": "python",
   "name": "python3"
  },
  "language_info": {
   "codemirror_mode": {
    "name": "ipython",
    "version": 3
   },
   "file_extension": ".py",
   "mimetype": "text/x-python",
   "name": "python",
   "nbconvert_exporter": "python",
   "pygments_lexer": "ipython3",
   "version": "3.9.15"
  },
  "orig_nbformat": 4,
  "vscode": {
   "interpreter": {
    "hash": "9de851881b5172be1eb459713c1d6af298fc8f1ddbdff9c50ad6540e21843a34"
   }
  }
 },
 "nbformat": 4,
 "nbformat_minor": 2
}
