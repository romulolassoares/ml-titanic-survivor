{
 "cells": [
  {
   "cell_type": "code",
   "execution_count": 71,
   "metadata": {},
   "outputs": [],
   "source": [
    "import pickle\n",
    "import numpy as np\n",
    "import pandas as pd\n",
    "import matplotlib.pyplot as plt\n",
    "\n",
    "from sklearn.svm import SVC\n",
    "from sklearn.tree import DecisionTreeClassifier\n",
    "from sklearn.ensemble import RandomForestClassifier\n",
    "\n",
    "from sklearn.metrics import accuracy_score, classification_report\n",
    "from yellowbrick.classifier import ConfusionMatrix\n",
    "from sklearn.model_selection import GridSearchCV\n",
    "from sklearn.neural_network import MLPClassifier\n",
    "\n",
    "from sklearn.model_selection import cross_val_score, KFold"
   ]
  },
  {
   "cell_type": "code",
   "execution_count": 46,
   "metadata": {},
   "outputs": [],
   "source": [
    "with open('./data/titanic.pkl', 'rb') as f:\n",
    "   X_titanic_train, y_titanic_train, X_titanic_test, y_titanic_test = pickle.load(f)\n",
    "   \n",
    "X_titanic = np.concatenate((X_titanic_train, X_titanic_test), axis=0)\n",
    "y_titanic = np.concatenate((y_titanic_train, y_titanic_test), axis=0)"
   ]
  },
  {
   "cell_type": "code",
   "execution_count": 118,
   "metadata": {},
   "outputs": [],
   "source": [
    "results_tree = []\n",
    "results_random_forest = []\n",
    "results_neural_network = []\n",
    "results_svm = []\n",
    "\n",
    "for i in range(30):\n",
    "   kfold = KFold(n_splits=10, shuffle=True, random_state=i)\n",
    "   \n",
    "   decision_tree = DecisionTreeClassifier(criterion='log_loss', min_samples_leaf=15, min_samples_split=25, splitter='random')\n",
    "   scores_tree = cross_val_score(decision_tree, X_titanic, y_titanic, cv=kfold)\n",
    "   results_tree.append(scores_tree.mean())\n",
    "   \n",
    "   random_forest = RandomForestClassifier(n_estimators=40,  criterion='gini', min_samples_leaf=1, min_samples_split=10)\n",
    "   scores_random_forest = cross_val_score(random_forest, X_titanic, y_titanic, cv=kfold)\n",
    "   results_random_forest.append(scores_random_forest.mean())\n",
    "   \n",
    "   svm = SVC(kernel = 'rbf', C = 100.0, tol=0.001)\n",
    "   scores_svm = cross_val_score(svm, X_titanic, y_titanic, cv=kfold)\n",
    "   results_svm.append(scores_svm.mean())\n",
    "\n",
    "   neural_network = MLPClassifier(max_iter=2000, activation='logistic', hidden_layer_sizes=(8, 8, 8), solver='adam', tol=1e-05)\n",
    "   scores_neural_network = cross_val_score(neural_network, X_titanic, y_titanic, cv=kfold)\n",
    "   results_neural_network.append(scores_neural_network.mean())\n",
    "   "
   ]
  },
  {
   "cell_type": "code",
   "execution_count": 119,
   "metadata": {},
   "outputs": [
    {
     "name": "stdout",
     "output_type": "stream",
     "text": [
      "30 30 30 30\n"
     ]
    }
   ],
   "source": [
    "print(len(results_tree), len(results_neural_network), len(results_svm), len(results_random_forest))"
   ]
  },
  {
   "cell_type": "code",
   "execution_count": 120,
   "metadata": {},
   "outputs": [
    {
     "data": {
      "text/html": [
       "<div>\n",
       "<style scoped>\n",
       "    .dataframe tbody tr th:only-of-type {\n",
       "        vertical-align: middle;\n",
       "    }\n",
       "\n",
       "    .dataframe tbody tr th {\n",
       "        vertical-align: top;\n",
       "    }\n",
       "\n",
       "    .dataframe thead th {\n",
       "        text-align: right;\n",
       "    }\n",
       "</style>\n",
       "<table border=\"1\" class=\"dataframe\">\n",
       "  <thead>\n",
       "    <tr style=\"text-align: right;\">\n",
       "      <th></th>\n",
       "      <th>Tree</th>\n",
       "      <th>Neural Network</th>\n",
       "      <th>SVM</th>\n",
       "      <th>Random Forest</th>\n",
       "    </tr>\n",
       "  </thead>\n",
       "  <tbody>\n",
       "    <tr>\n",
       "      <th>0</th>\n",
       "      <td>0.847240</td>\n",
       "      <td>0.857921</td>\n",
       "      <td>0.852578</td>\n",
       "      <td>0.866324</td>\n",
       "    </tr>\n",
       "    <tr>\n",
       "      <th>1</th>\n",
       "      <td>0.862501</td>\n",
       "      <td>0.853335</td>\n",
       "      <td>0.854880</td>\n",
       "      <td>0.864809</td>\n",
       "    </tr>\n",
       "    <tr>\n",
       "      <th>2</th>\n",
       "      <td>0.863235</td>\n",
       "      <td>0.867816</td>\n",
       "      <td>0.852537</td>\n",
       "      <td>0.865531</td>\n",
       "    </tr>\n",
       "    <tr>\n",
       "      <th>3</th>\n",
       "      <td>0.859442</td>\n",
       "      <td>0.854856</td>\n",
       "      <td>0.845708</td>\n",
       "      <td>0.867052</td>\n",
       "    </tr>\n",
       "    <tr>\n",
       "      <th>4</th>\n",
       "      <td>0.860963</td>\n",
       "      <td>0.863253</td>\n",
       "      <td>0.848726</td>\n",
       "      <td>0.871650</td>\n",
       "    </tr>\n",
       "    <tr>\n",
       "      <th>5</th>\n",
       "      <td>0.868579</td>\n",
       "      <td>0.854815</td>\n",
       "      <td>0.851732</td>\n",
       "      <td>0.870846</td>\n",
       "    </tr>\n",
       "    <tr>\n",
       "      <th>6</th>\n",
       "      <td>0.857898</td>\n",
       "      <td>0.864774</td>\n",
       "      <td>0.852548</td>\n",
       "      <td>0.872413</td>\n",
       "    </tr>\n",
       "    <tr>\n",
       "      <th>7</th>\n",
       "      <td>0.847933</td>\n",
       "      <td>0.863200</td>\n",
       "      <td>0.854063</td>\n",
       "      <td>0.866254</td>\n",
       "    </tr>\n",
       "    <tr>\n",
       "      <th>8</th>\n",
       "      <td>0.857087</td>\n",
       "      <td>0.861691</td>\n",
       "      <td>0.851045</td>\n",
       "      <td>0.863993</td>\n",
       "    </tr>\n",
       "    <tr>\n",
       "      <th>9</th>\n",
       "      <td>0.857951</td>\n",
       "      <td>0.855655</td>\n",
       "      <td>0.852601</td>\n",
       "      <td>0.865584</td>\n",
       "    </tr>\n",
       "    <tr>\n",
       "      <th>10</th>\n",
       "      <td>0.860963</td>\n",
       "      <td>0.864809</td>\n",
       "      <td>0.852566</td>\n",
       "      <td>0.866336</td>\n",
       "    </tr>\n",
       "    <tr>\n",
       "      <th>11</th>\n",
       "      <td>0.860992</td>\n",
       "      <td>0.864034</td>\n",
       "      <td>0.852572</td>\n",
       "      <td>0.867857</td>\n",
       "    </tr>\n",
       "    <tr>\n",
       "      <th>12</th>\n",
       "      <td>0.847992</td>\n",
       "      <td>0.855619</td>\n",
       "      <td>0.851039</td>\n",
       "      <td>0.865543</td>\n",
       "    </tr>\n",
       "    <tr>\n",
       "      <th>13</th>\n",
       "      <td>0.859454</td>\n",
       "      <td>0.860223</td>\n",
       "      <td>0.851803</td>\n",
       "      <td>0.867093</td>\n",
       "    </tr>\n",
       "    <tr>\n",
       "      <th>14</th>\n",
       "      <td>0.851797</td>\n",
       "      <td>0.864803</td>\n",
       "      <td>0.853347</td>\n",
       "      <td>0.861756</td>\n",
       "    </tr>\n",
       "    <tr>\n",
       "      <th>15</th>\n",
       "      <td>0.863235</td>\n",
       "      <td>0.864762</td>\n",
       "      <td>0.854058</td>\n",
       "      <td>0.861691</td>\n",
       "    </tr>\n",
       "    <tr>\n",
       "      <th>16</th>\n",
       "      <td>0.863259</td>\n",
       "      <td>0.857892</td>\n",
       "      <td>0.850270</td>\n",
       "      <td>0.872431</td>\n",
       "    </tr>\n",
       "    <tr>\n",
       "      <th>17</th>\n",
       "      <td>0.860188</td>\n",
       "      <td>0.858679</td>\n",
       "      <td>0.854099</td>\n",
       "      <td>0.863253</td>\n",
       "    </tr>\n",
       "    <tr>\n",
       "      <th>18</th>\n",
       "      <td>0.864797</td>\n",
       "      <td>0.858702</td>\n",
       "      <td>0.850276</td>\n",
       "      <td>0.867851</td>\n",
       "    </tr>\n",
       "    <tr>\n",
       "      <th>19</th>\n",
       "      <td>0.863253</td>\n",
       "      <td>0.860963</td>\n",
       "      <td>0.850264</td>\n",
       "      <td>0.864786</td>\n",
       "    </tr>\n",
       "    <tr>\n",
       "      <th>20</th>\n",
       "      <td>0.854105</td>\n",
       "      <td>0.865561</td>\n",
       "      <td>0.855625</td>\n",
       "      <td>0.871662</td>\n",
       "    </tr>\n",
       "    <tr>\n",
       "      <th>21</th>\n",
       "      <td>0.858667</td>\n",
       "      <td>0.861709</td>\n",
       "      <td>0.851016</td>\n",
       "      <td>0.862472</td>\n",
       "    </tr>\n",
       "    <tr>\n",
       "      <th>22</th>\n",
       "      <td>0.854093</td>\n",
       "      <td>0.864774</td>\n",
       "      <td>0.854093</td>\n",
       "      <td>0.868597</td>\n",
       "    </tr>\n",
       "    <tr>\n",
       "      <th>23</th>\n",
       "      <td>0.854891</td>\n",
       "      <td>0.863253</td>\n",
       "      <td>0.852607</td>\n",
       "      <td>0.865584</td>\n",
       "    </tr>\n",
       "    <tr>\n",
       "      <th>24</th>\n",
       "      <td>0.856400</td>\n",
       "      <td>0.867851</td>\n",
       "      <td>0.854868</td>\n",
       "      <td>0.871691</td>\n",
       "    </tr>\n",
       "    <tr>\n",
       "      <th>25</th>\n",
       "      <td>0.864780</td>\n",
       "      <td>0.856365</td>\n",
       "      <td>0.853312</td>\n",
       "      <td>0.867827</td>\n",
       "    </tr>\n",
       "    <tr>\n",
       "      <th>26</th>\n",
       "      <td>0.856377</td>\n",
       "      <td>0.855631</td>\n",
       "      <td>0.854075</td>\n",
       "      <td>0.871674</td>\n",
       "    </tr>\n",
       "    <tr>\n",
       "      <th>27</th>\n",
       "      <td>0.867099</td>\n",
       "      <td>0.860217</td>\n",
       "      <td>0.852584</td>\n",
       "      <td>0.867093</td>\n",
       "    </tr>\n",
       "    <tr>\n",
       "      <th>28</th>\n",
       "      <td>0.856371</td>\n",
       "      <td>0.856395</td>\n",
       "      <td>0.854075</td>\n",
       "      <td>0.864011</td>\n",
       "    </tr>\n",
       "    <tr>\n",
       "      <th>29</th>\n",
       "      <td>0.855619</td>\n",
       "      <td>0.857158</td>\n",
       "      <td>0.853347</td>\n",
       "      <td>0.870898</td>\n",
       "    </tr>\n",
       "  </tbody>\n",
       "</table>\n",
       "</div>"
      ],
      "text/plain": [
       "        Tree  Neural Network       SVM  Random Forest\n",
       "0   0.847240        0.857921  0.852578       0.866324\n",
       "1   0.862501        0.853335  0.854880       0.864809\n",
       "2   0.863235        0.867816  0.852537       0.865531\n",
       "3   0.859442        0.854856  0.845708       0.867052\n",
       "4   0.860963        0.863253  0.848726       0.871650\n",
       "5   0.868579        0.854815  0.851732       0.870846\n",
       "6   0.857898        0.864774  0.852548       0.872413\n",
       "7   0.847933        0.863200  0.854063       0.866254\n",
       "8   0.857087        0.861691  0.851045       0.863993\n",
       "9   0.857951        0.855655  0.852601       0.865584\n",
       "10  0.860963        0.864809  0.852566       0.866336\n",
       "11  0.860992        0.864034  0.852572       0.867857\n",
       "12  0.847992        0.855619  0.851039       0.865543\n",
       "13  0.859454        0.860223  0.851803       0.867093\n",
       "14  0.851797        0.864803  0.853347       0.861756\n",
       "15  0.863235        0.864762  0.854058       0.861691\n",
       "16  0.863259        0.857892  0.850270       0.872431\n",
       "17  0.860188        0.858679  0.854099       0.863253\n",
       "18  0.864797        0.858702  0.850276       0.867851\n",
       "19  0.863253        0.860963  0.850264       0.864786\n",
       "20  0.854105        0.865561  0.855625       0.871662\n",
       "21  0.858667        0.861709  0.851016       0.862472\n",
       "22  0.854093        0.864774  0.854093       0.868597\n",
       "23  0.854891        0.863253  0.852607       0.865584\n",
       "24  0.856400        0.867851  0.854868       0.871691\n",
       "25  0.864780        0.856365  0.853312       0.867827\n",
       "26  0.856377        0.855631  0.854075       0.871674\n",
       "27  0.867099        0.860217  0.852584       0.867093\n",
       "28  0.856371        0.856395  0.854075       0.864011\n",
       "29  0.855619        0.857158  0.853347       0.870898"
      ]
     },
     "execution_count": 120,
     "metadata": {},
     "output_type": "execute_result"
    }
   ],
   "source": [
    "results = pd.DataFrame({'Tree': results_tree, 'Neural Network': results_neural_network, 'SVM': results_svm, 'Random Forest': results_random_forest})\n",
    "\n",
    "results"
   ]
  },
  {
   "cell_type": "code",
   "execution_count": 121,
   "metadata": {},
   "outputs": [
    {
     "data": {
      "text/html": [
       "<div>\n",
       "<style scoped>\n",
       "    .dataframe tbody tr th:only-of-type {\n",
       "        vertical-align: middle;\n",
       "    }\n",
       "\n",
       "    .dataframe tbody tr th {\n",
       "        vertical-align: top;\n",
       "    }\n",
       "\n",
       "    .dataframe thead th {\n",
       "        text-align: right;\n",
       "    }\n",
       "</style>\n",
       "<table border=\"1\" class=\"dataframe\">\n",
       "  <thead>\n",
       "    <tr style=\"text-align: right;\">\n",
       "      <th></th>\n",
       "      <th>Tree</th>\n",
       "      <th>Neural Network</th>\n",
       "      <th>SVM</th>\n",
       "      <th>Random Forest</th>\n",
       "    </tr>\n",
       "  </thead>\n",
       "  <tbody>\n",
       "    <tr>\n",
       "      <th>count</th>\n",
       "      <td>30.000000</td>\n",
       "      <td>30.000000</td>\n",
       "      <td>30.000000</td>\n",
       "      <td>30.000000</td>\n",
       "    </tr>\n",
       "    <tr>\n",
       "      <th>mean</th>\n",
       "      <td>0.858572</td>\n",
       "      <td>0.860557</td>\n",
       "      <td>0.852410</td>\n",
       "      <td>0.867152</td>\n",
       "    </tr>\n",
       "    <tr>\n",
       "      <th>std</th>\n",
       "      <td>0.005425</td>\n",
       "      <td>0.004213</td>\n",
       "      <td>0.002040</td>\n",
       "      <td>0.003257</td>\n",
       "    </tr>\n",
       "    <tr>\n",
       "      <th>min</th>\n",
       "      <td>0.847240</td>\n",
       "      <td>0.853335</td>\n",
       "      <td>0.845708</td>\n",
       "      <td>0.861691</td>\n",
       "    </tr>\n",
       "    <tr>\n",
       "      <th>25%</th>\n",
       "      <td>0.855807</td>\n",
       "      <td>0.856585</td>\n",
       "      <td>0.851217</td>\n",
       "      <td>0.864990</td>\n",
       "    </tr>\n",
       "    <tr>\n",
       "      <th>50%</th>\n",
       "      <td>0.859055</td>\n",
       "      <td>0.860593</td>\n",
       "      <td>0.852581</td>\n",
       "      <td>0.866694</td>\n",
       "    </tr>\n",
       "    <tr>\n",
       "      <th>75%</th>\n",
       "      <td>0.863052</td>\n",
       "      <td>0.864580</td>\n",
       "      <td>0.854062</td>\n",
       "      <td>0.870283</td>\n",
       "    </tr>\n",
       "    <tr>\n",
       "      <th>max</th>\n",
       "      <td>0.868579</td>\n",
       "      <td>0.867851</td>\n",
       "      <td>0.855625</td>\n",
       "      <td>0.872431</td>\n",
       "    </tr>\n",
       "  </tbody>\n",
       "</table>\n",
       "</div>"
      ],
      "text/plain": [
       "            Tree  Neural Network        SVM  Random Forest\n",
       "count  30.000000       30.000000  30.000000      30.000000\n",
       "mean    0.858572        0.860557   0.852410       0.867152\n",
       "std     0.005425        0.004213   0.002040       0.003257\n",
       "min     0.847240        0.853335   0.845708       0.861691\n",
       "25%     0.855807        0.856585   0.851217       0.864990\n",
       "50%     0.859055        0.860593   0.852581       0.866694\n",
       "75%     0.863052        0.864580   0.854062       0.870283\n",
       "max     0.868579        0.867851   0.855625       0.872431"
      ]
     },
     "execution_count": 121,
     "metadata": {},
     "output_type": "execute_result"
    }
   ],
   "source": [
    "results.describe()"
   ]
  },
  {
   "cell_type": "code",
   "execution_count": 122,
   "metadata": {},
   "outputs": [
    {
     "name": "stdout",
     "output_type": "stream",
     "text": [
      "Tree              0.000029\n",
      "Neural Network    0.000018\n",
      "SVM               0.000004\n",
      "Random Forest     0.000011\n",
      "dtype: float64\n",
      "Tree              0.631889\n",
      "Neural Network    0.489537\n",
      "SVM               0.239326\n",
      "Random Forest     0.375614\n",
      "dtype: float64\n"
     ]
    }
   ],
   "source": [
    "print(results.var())\n",
    "print((results.std() / results.mean()) * 100)\n"
   ]
  },
  {
   "cell_type": "code",
   "execution_count": 123,
   "metadata": {},
   "outputs": [],
   "source": [
    "alpha = 0.05"
   ]
  },
  {
   "cell_type": "code",
   "execution_count": 124,
   "metadata": {},
   "outputs": [],
   "source": [
    "from scipy.stats import shapiro"
   ]
  },
  {
   "cell_type": "code",
   "execution_count": 125,
   "metadata": {},
   "outputs": [
    {
     "data": {
      "text/plain": [
       "(ShapiroResult(statistic=0.9670931100845337, pvalue=0.46300074458122253),\n",
       " ShapiroResult(statistic=0.9440909028053284, pvalue=0.11724772304296494),\n",
       " ShapiroResult(statistic=0.9079995155334473, pvalue=0.01325297262519598),\n",
       " ShapiroResult(statistic=0.937567412853241, pvalue=0.07823401689529419))"
      ]
     },
     "execution_count": 125,
     "metadata": {},
     "output_type": "execute_result"
    }
   ],
   "source": [
    "shapiro(results_tree), shapiro(results_neural_network), shapiro(results_svm), shapiro(results_random_forest)"
   ]
  },
  {
   "cell_type": "code",
   "execution_count": 126,
   "metadata": {},
   "outputs": [],
   "source": [
    "import seaborn as sns"
   ]
  },
  {
   "cell_type": "code",
   "execution_count": 127,
   "metadata": {},
   "outputs": [
    {
     "data": {
      "text/plain": [
       "<seaborn.axisgrid.FacetGrid at 0x7f4c97d74730>"
      ]
     },
     "execution_count": 127,
     "metadata": {},
     "output_type": "execute_result"
    },
    {
     "data": {
      "image/png": "[encoded data removed]",
      "text/plain": [
       "<Figure size 500x500 with 1 Axes>"
      ]
     },
     "metadata": {},
     "output_type": "display_data"
    }
   ],
   "source": [
    "sns.displot(results_tree, kind='kde')"
   ]
  },
  {
   "cell_type": "code",
   "execution_count": 128,
   "metadata": {},
   "outputs": [
    {
     "data": {
      "text/plain": [
       "<seaborn.axisgrid.FacetGrid at 0x7f4c97d865e0>"
      ]
     },
     "execution_count": 128,
     "metadata": {},
     "output_type": "execute_result"
    },
    {
     "data": {
      "image/png": "[encoded data removed]",
      "text/plain": [
       "<Figure size 500x500 with 1 Axes>"
      ]
     },
     "metadata": {},
     "output_type": "display_data"
    }
   ],
   "source": [
    "sns.displot(results_neural_network, kind='kde')"
   ]
  },
  {
   "cell_type": "code",
   "execution_count": 129,
   "metadata": {},
   "outputs": [
    {
     "data": {
      "text/plain": [
       "<seaborn.axisgrid.FacetGrid at 0x7f4c97f7d580>"
      ]
     },
     "execution_count": 129,
     "metadata": {},
     "output_type": "execute_result"
    },
    {
     "data": {
      "image/png": "[encoded data removed]",
      "text/plain": [
       "<Figure size 500x500 with 1 Axes>"
      ]
     },
     "metadata": {},
     "output_type": "display_data"
    }
   ],
   "source": [
    "sns.displot(results_svm, kind='kde')"
   ]
  },
  {
   "cell_type": "code",
   "execution_count": 142,
   "metadata": {},
   "outputs": [
    {
     "data": {
      "text/plain": [
       "<seaborn.axisgrid.FacetGrid at 0x7f4c97da0790>"
      ]
     },
     "execution_count": 142,
     "metadata": {},
     "output_type": "execute_result"
    },
    {
     "data": {
      "image/png": "[encoded data removed]",
      "text/plain": [
       "<Figure size 500x500 with 1 Axes>"
      ]
     },
     "metadata": {},
     "output_type": "display_data"
    }
   ],
   "source": [
    "sns.displot(results_random_forest, kind='kde')"
   ]
  },
  {
   "cell_type": "markdown",
   "metadata": {},
   "source": [
    "# Teste de Hípotese"
   ]
  },
  {
   "cell_type": "code",
   "execution_count": 131,
   "metadata": {},
   "outputs": [],
   "source": [
    "from scipy.stats import f_oneway"
   ]
  },
  {
   "cell_type": "code",
   "execution_count": 132,
   "metadata": {},
   "outputs": [
    {
     "data": {
      "text/plain": [
       "3.025850636318551e-26"
      ]
     },
     "execution_count": 132,
     "metadata": {},
     "output_type": "execute_result"
    }
   ],
   "source": [
    "_, p = f_oneway(results_tree, results_neural_network, results_svm, results_random_forest)\n",
    "p"
   ]
  },
  {
   "cell_type": "code",
   "execution_count": 133,
   "metadata": {},
   "outputs": [
    {
     "name": "stdout",
     "output_type": "stream",
     "text": [
      "Hipótese nula rejeitada. Dados são diferentes\n"
     ]
    }
   ],
   "source": [
    "alpha = 0.05\n",
    "if p <= alpha:\n",
    "  print('Hipótese nula rejeitada. Dados são diferentes')\n",
    "else:\n",
    "  print('Hipótese alternativa rejeitada. Resultados são iguais')"
   ]
  },
  {
   "cell_type": "code",
   "execution_count": 134,
   "metadata": {},
   "outputs": [],
   "source": [
    "a_tree = []\n",
    "a_random_forest = []\n",
    "a_svm = []\n",
    "a_neural_network = []\n",
    "for i in range(0,30):\n",
    "   a_tree.append('tree')\n",
    "   a_random_forest.append('random_forest')\n",
    "   a_svm.append('svm')\n",
    "   a_tree.append('tree')\n",
    "   "
   ]
  },
  {
   "cell_type": "code",
   "execution_count": 135,
   "metadata": {},
   "outputs": [],
   "source": [
    "results_agm = {\n",
    "   'accuracy': np.concatenate([results_tree, results_neural_network, results_svm, results_random_forest]),\n",
    "   'agm': ['tree','tree','tree','tree','tree','tree','tree','tree','tree','tree','tree','tree','tree','tree','tree','tree','tree','tree','tree','tree','tree','tree','tree','tree','tree','tree','tree','tree','tree','tree','neural_network','neural_network','neural_network','neural_network','neural_network','neural_network','neural_network','neural_network','neural_network','neural_network','neural_network','neural_network','neural_network','neural_network','neural_network','neural_network','neural_network','neural_network','neural_network','neural_network','neural_network','neural_network','neural_network','neural_network','neural_network','neural_network','neural_network','neural_network','neural_network','neural_network','svm','svm','svm','svm','svm','svm','svm','svm','svm','svm','svm','svm','svm','svm','svm','svm','svm','svm','svm','svm','svm','svm','svm','svm','svm','svm','svm','svm','svm','svm','random_forest', 'random_forest', 'random_forest', 'random_forest', 'random_forest', 'random_forest', 'random_forest', 'random_forest', 'random_forest', 'random_forest', 'random_forest', 'random_forest', 'random_forest', 'random_forest', 'random_forest', 'random_forest', 'random_forest', 'random_forest', 'random_forest', 'random_forest', 'random_forest', 'random_forest', 'random_forest', 'random_forest', 'random_forest', 'random_forest', 'random_forest', 'random_forest', 'random_forest', 'random_forest']\n",
    "}"
   ]
  },
  {
   "cell_type": "code",
   "execution_count": 136,
   "metadata": {},
   "outputs": [
    {
     "data": {
      "text/html": [
       "<div>\n",
       "<style scoped>\n",
       "    .dataframe tbody tr th:only-of-type {\n",
       "        vertical-align: middle;\n",
       "    }\n",
       "\n",
       "    .dataframe tbody tr th {\n",
       "        vertical-align: top;\n",
       "    }\n",
       "\n",
       "    .dataframe thead th {\n",
       "        text-align: right;\n",
       "    }\n",
       "</style>\n",
       "<table border=\"1\" class=\"dataframe\">\n",
       "  <thead>\n",
       "    <tr style=\"text-align: right;\">\n",
       "      <th></th>\n",
       "      <th>accuracy</th>\n",
       "      <th>agm</th>\n",
       "    </tr>\n",
       "  </thead>\n",
       "  <tbody>\n",
       "    <tr>\n",
       "      <th>0</th>\n",
       "      <td>0.847240</td>\n",
       "      <td>tree</td>\n",
       "    </tr>\n",
       "    <tr>\n",
       "      <th>1</th>\n",
       "      <td>0.862501</td>\n",
       "      <td>tree</td>\n",
       "    </tr>\n",
       "    <tr>\n",
       "      <th>2</th>\n",
       "      <td>0.863235</td>\n",
       "      <td>tree</td>\n",
       "    </tr>\n",
       "    <tr>\n",
       "      <th>3</th>\n",
       "      <td>0.859442</td>\n",
       "      <td>tree</td>\n",
       "    </tr>\n",
       "    <tr>\n",
       "      <th>4</th>\n",
       "      <td>0.860963</td>\n",
       "      <td>tree</td>\n",
       "    </tr>\n",
       "    <tr>\n",
       "      <th>...</th>\n",
       "      <td>...</td>\n",
       "      <td>...</td>\n",
       "    </tr>\n",
       "    <tr>\n",
       "      <th>115</th>\n",
       "      <td>0.867827</td>\n",
       "      <td>random_forest</td>\n",
       "    </tr>\n",
       "    <tr>\n",
       "      <th>116</th>\n",
       "      <td>0.871674</td>\n",
       "      <td>random_forest</td>\n",
       "    </tr>\n",
       "    <tr>\n",
       "      <th>117</th>\n",
       "      <td>0.867093</td>\n",
       "      <td>random_forest</td>\n",
       "    </tr>\n",
       "    <tr>\n",
       "      <th>118</th>\n",
       "      <td>0.864011</td>\n",
       "      <td>random_forest</td>\n",
       "    </tr>\n",
       "    <tr>\n",
       "      <th>119</th>\n",
       "      <td>0.870898</td>\n",
       "      <td>random_forest</td>\n",
       "    </tr>\n",
       "  </tbody>\n",
       "</table>\n",
       "<p>120 rows × 2 columns</p>\n",
       "</div>"
      ],
      "text/plain": [
       "     accuracy            agm\n",
       "0    0.847240           tree\n",
       "1    0.862501           tree\n",
       "2    0.863235           tree\n",
       "3    0.859442           tree\n",
       "4    0.860963           tree\n",
       "..        ...            ...\n",
       "115  0.867827  random_forest\n",
       "116  0.871674  random_forest\n",
       "117  0.867093  random_forest\n",
       "118  0.864011  random_forest\n",
       "119  0.870898  random_forest\n",
       "\n",
       "[120 rows x 2 columns]"
      ]
     },
     "execution_count": 136,
     "metadata": {},
     "output_type": "execute_result"
    }
   ],
   "source": [
    "results_df = pd.DataFrame(results_agm)\n",
    "results_df"
   ]
  },
  {
   "cell_type": "code",
   "execution_count": 137,
   "metadata": {},
   "outputs": [
    {
     "data": {
      "text/plain": [
       "Tree              0.858572\n",
       "Neural Network    0.860557\n",
       "SVM               0.852410\n",
       "Random Forest     0.867152\n",
       "dtype: float64"
      ]
     },
     "execution_count": 137,
     "metadata": {},
     "output_type": "execute_result"
    }
   ],
   "source": [
    "results.mean()"
   ]
  },
  {
   "cell_type": "code",
   "execution_count": 138,
   "metadata": {},
   "outputs": [],
   "source": [
    "from statsmodels.stats.multicomp import MultiComparison"
   ]
  },
  {
   "cell_type": "code",
   "execution_count": 139,
   "metadata": {},
   "outputs": [],
   "source": [
    "comp_agm = MultiComparison(results_df['accuracy'], results_df['agm'])"
   ]
  },
  {
   "cell_type": "code",
   "execution_count": 140,
   "metadata": {},
   "outputs": [
    {
     "name": "stdout",
     "output_type": "stream",
     "text": [
      "        Multiple Comparison of Means - Tukey HSD, FWER=0.05        \n",
      "===================================================================\n",
      "    group1         group2    meandiff p-adj   lower   upper  reject\n",
      "-------------------------------------------------------------------\n",
      "neural_network random_forest   0.0066    0.0  0.0039  0.0092   True\n",
      "neural_network           svm  -0.0081    0.0 -0.0108 -0.0055   True\n",
      "neural_network          tree   -0.002 0.2118 -0.0046  0.0007  False\n",
      " random_forest           svm  -0.0147    0.0 -0.0174 -0.0121   True\n",
      " random_forest          tree  -0.0086    0.0 -0.0112 -0.0059   True\n",
      "           svm          tree   0.0062    0.0  0.0035  0.0088   True\n",
      "-------------------------------------------------------------------\n"
     ]
    }
   ],
   "source": [
    "test_tukey = comp_agm.tukeyhsd()\n",
    "print(test_tukey)"
   ]
  },
  {
   "cell_type": "code",
   "execution_count": 141,
   "metadata": {},
   "outputs": [
    {
     "data": {
      "image/png": "[encoded data removed]",
      "text/plain": [
       "<Figure size 1000x600 with 1 Axes>"
      ]
     },
     "metadata": {},
     "output_type": "display_data"
    }
   ],
   "source": [
    "test_tukey.plot_simultaneous();"
   ]
  }
 ],
 "metadata": {
  "kernelspec": {
   "display_name": "Python 3.9.15 ('.venv': venv)",
   "language": "python",
   "name": "python3"
  },
  "language_info": {
   "codemirror_mode": {
    "name": "ipython",
    "version": 3
   },
   "file_extension": ".py",
   "mimetype": "text/x-python",
   "name": "python",
   "nbconvert_exporter": "python",
   "pygments_lexer": "ipython3",
   "version": "3.9.15"
  },
  "orig_nbformat": 4,
  "vscode": {
   "interpreter": {
    "hash": "9de851881b5172be1eb459713c1d6af298fc8f1ddbdff9c50ad6540e21843a34"
   }
  }
 },
 "nbformat": 4,
 "nbformat_minor": 2
}
